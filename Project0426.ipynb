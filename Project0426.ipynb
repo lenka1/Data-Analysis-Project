{
 "cells": [
  {
   "cell_type": "code",
   "execution_count": 3,
   "metadata": {},
   "outputs": [],
   "source": [
    "# Project Milestone-3\n",
    "# 04/26/2020 Lenin Kamma"
   ]
  },
  {
   "cell_type": "code",
   "execution_count": 4,
   "metadata": {},
   "outputs": [],
   "source": [
    "# Import libraries\n",
    "import pandas as pd"
   ]
  },
  {
   "cell_type": "code",
   "execution_count": 5,
   "metadata": {},
   "outputs": [],
   "source": [
    "# Read CSV file from Census.gov website\n",
    "cnty_est_pop = pd.read_csv(\"https://www2.census.gov/programs-surveys/popest/datasets/2010-2019/counties/totals/co-est2019-alldata.csv\",encoding='unicode_escape')"
   ]
  },
  {
   "cell_type": "code",
   "execution_count": 6,
   "metadata": {},
   "outputs": [
    {
     "data": {
      "text/plain": [
       "<bound method NDFrame.head of       SUMLEV  REGION  DIVISION  STATE  COUNTY   STNAME            CTYNAME  \\\n",
       "0         40       3         6      1       0  Alabama            Alabama   \n",
       "1         50       3         6      1       1  Alabama     Autauga County   \n",
       "2         50       3         6      1       3  Alabama     Baldwin County   \n",
       "3         50       3         6      1       5  Alabama     Barbour County   \n",
       "4         50       3         6      1       7  Alabama        Bibb County   \n",
       "...      ...     ...       ...    ...     ...      ...                ...   \n",
       "3188      50       4         8     56      37  Wyoming  Sweetwater County   \n",
       "3189      50       4         8     56      39  Wyoming       Teton County   \n",
       "3190      50       4         8     56      41  Wyoming       Uinta County   \n",
       "3191      50       4         8     56      43  Wyoming    Washakie County   \n",
       "3192      50       4         8     56      45  Wyoming      Weston County   \n",
       "\n",
       "      CENSUS2010POP  ESTIMATESBASE2010  POPESTIMATE2010  ...  \\\n",
       "0           4779736            4780125          4785437  ...   \n",
       "1             54571              54597            54773  ...   \n",
       "2            182265             182265           183112  ...   \n",
       "3             27457              27455            27327  ...   \n",
       "4             22915              22915            22870  ...   \n",
       "...             ...                ...              ...  ...   \n",
       "3188          43806              43806            43574  ...   \n",
       "3189          21294              21298            21296  ...   \n",
       "3190          21118              21121            21089  ...   \n",
       "3191           8533               8528             8530  ...   \n",
       "3192           7208               7208             7198  ...   \n",
       "\n",
       "      RDOMESTICMIG2019  RNETMIG2011  RNETMIG2012  RNETMIG2013  RNETMIG2014  \\\n",
       "0             1.917501     0.578434     1.186314     1.522549     0.563489   \n",
       "1             4.847310     6.018182    -6.226119    -3.902226     1.970443   \n",
       "2            24.017829    16.641870    17.488579    22.751474    20.184334   \n",
       "3            -5.690302     0.292676    -6.897817    -8.132185    -5.140431   \n",
       "4             1.385134    -4.998356    -3.787545    -5.797999     1.331144   \n",
       "...                ...          ...          ...          ...          ...   \n",
       "3188        -17.605427     0.502513    15.035735    -4.614071   -13.140225   \n",
       "3189         -1.583464    -2.575509     1.905293    23.259519    12.508872   \n",
       "3190         -9.181105   -18.196975    -4.487730   -10.870861   -15.033634   \n",
       "3191         -7.652085   -12.839390    -3.084589    -1.307811   -18.938032   \n",
       "3192          0.000000    -9.065551   -10.549265     6.191515     0.420345   \n",
       "\n",
       "      RNETMIG2015  RNETMIG2016  RNETMIG2017  RNETMIG2018  RNETMIG2019  \n",
       "0        0.626357     0.745172     1.090366     1.773786     2.483744  \n",
       "1       -1.712875     4.777171     0.849656     0.540916     4.560062  \n",
       "2       17.725964    21.279291    22.398256    24.727215    24.380567  \n",
       "3      -15.724575   -18.238016   -24.998528    -8.754922    -5.165664  \n",
       "4        1.329817    -0.708717    -3.234669    -6.857092     1.831952  \n",
       "...           ...          ...          ...          ...          ...  \n",
       "3188   -13.762031   -18.484164   -23.515727   -18.743773   -17.065527  \n",
       "3189     4.670450     1.253214    -0.171608   -12.432212     1.797445  \n",
       "3190   -10.484550   -11.485101   -18.923455   -13.554993    -9.181105  \n",
       "3191     0.000000   -15.204038   -15.950541   -17.246806    -8.289759  \n",
       "3192     9.201171     0.693097   -36.227798    -6.910452     2.599090  \n",
       "\n",
       "[3193 rows x 164 columns]>"
      ]
     },
     "execution_count": 6,
     "metadata": {},
     "output_type": "execute_result"
    }
   ],
   "source": [
    "# View data\n",
    "cnty_est_pop.head"
   ]
  },
  {
   "cell_type": "code",
   "execution_count": 7,
   "metadata": {},
   "outputs": [],
   "source": [
    "# Total 3193 rows and 164 columns\n",
    "# Extract required columns\n",
    "cnty_est_pop_1 = cnty_est_pop[['STNAME','CTYNAME','COUNTY','POPESTIMATE2019']].copy()"
   ]
  },
  {
   "cell_type": "code",
   "execution_count": 8,
   "metadata": {},
   "outputs": [
    {
     "data": {
      "text/html": [
       "<div>\n",
       "<style scoped>\n",
       "    .dataframe tbody tr th:only-of-type {\n",
       "        vertical-align: middle;\n",
       "    }\n",
       "\n",
       "    .dataframe tbody tr th {\n",
       "        vertical-align: top;\n",
       "    }\n",
       "\n",
       "    .dataframe thead th {\n",
       "        text-align: right;\n",
       "    }\n",
       "</style>\n",
       "<table border=\"1\" class=\"dataframe\">\n",
       "  <thead>\n",
       "    <tr style=\"text-align: right;\">\n",
       "      <th></th>\n",
       "      <th>COUNTY</th>\n",
       "      <th>POPESTIMATE2019</th>\n",
       "    </tr>\n",
       "  </thead>\n",
       "  <tbody>\n",
       "    <tr>\n",
       "      <th>count</th>\n",
       "      <td>3193.000000</td>\n",
       "      <td>3.193000e+03</td>\n",
       "    </tr>\n",
       "    <tr>\n",
       "      <th>mean</th>\n",
       "      <td>101.918572</td>\n",
       "      <td>2.055995e+05</td>\n",
       "    </tr>\n",
       "    <tr>\n",
       "      <th>std</th>\n",
       "      <td>107.626583</td>\n",
       "      <td>1.260310e+06</td>\n",
       "    </tr>\n",
       "    <tr>\n",
       "      <th>min</th>\n",
       "      <td>0.000000</td>\n",
       "      <td>8.600000e+01</td>\n",
       "    </tr>\n",
       "    <tr>\n",
       "      <th>25%</th>\n",
       "      <td>33.000000</td>\n",
       "      <td>1.112800e+04</td>\n",
       "    </tr>\n",
       "    <tr>\n",
       "      <th>50%</th>\n",
       "      <td>77.000000</td>\n",
       "      <td>2.651600e+04</td>\n",
       "    </tr>\n",
       "    <tr>\n",
       "      <th>75%</th>\n",
       "      <td>133.000000</td>\n",
       "      <td>7.330900e+04</td>\n",
       "    </tr>\n",
       "    <tr>\n",
       "      <th>max</th>\n",
       "      <td>840.000000</td>\n",
       "      <td>3.951222e+07</td>\n",
       "    </tr>\n",
       "  </tbody>\n",
       "</table>\n",
       "</div>"
      ],
      "text/plain": [
       "            COUNTY  POPESTIMATE2019\n",
       "count  3193.000000     3.193000e+03\n",
       "mean    101.918572     2.055995e+05\n",
       "std     107.626583     1.260310e+06\n",
       "min       0.000000     8.600000e+01\n",
       "25%      33.000000     1.112800e+04\n",
       "50%      77.000000     2.651600e+04\n",
       "75%     133.000000     7.330900e+04\n",
       "max     840.000000     3.951222e+07"
      ]
     },
     "execution_count": 8,
     "metadata": {},
     "output_type": "execute_result"
    }
   ],
   "source": [
    "# Describe new dataframe\n",
    "cnty_est_pop_1.describe()"
   ]
  },
  {
   "cell_type": "code",
   "execution_count": 9,
   "metadata": {},
   "outputs": [],
   "source": [
    "# County number zero has the total population for the state\n",
    "# Remove rows where county number is zero\n",
    "cnty_est_pop_1.drop(cnty_est_pop_1[cnty_est_pop_1['COUNTY']== 0].index, inplace=True)"
   ]
  },
  {
   "cell_type": "code",
   "execution_count": 10,
   "metadata": {},
   "outputs": [
    {
     "data": {
      "text/plain": [
       "STNAME             3142\n",
       "CTYNAME            3142\n",
       "COUNTY             3142\n",
       "POPESTIMATE2019    3142\n",
       "dtype: int64"
      ]
     },
     "execution_count": 10,
     "metadata": {},
     "output_type": "execute_result"
    }
   ],
   "source": [
    "# View number of rows\n",
    "cnty_est_pop_1.count()"
   ]
  },
  {
   "cell_type": "code",
   "execution_count": 11,
   "metadata": {},
   "outputs": [
    {
     "data": {
      "text/plain": [
       "STNAME             0\n",
       "CTYNAME            0\n",
       "COUNTY             0\n",
       "POPESTIMATE2019    0\n",
       "dtype: int64"
      ]
     },
     "execution_count": 11,
     "metadata": {},
     "output_type": "execute_result"
    }
   ],
   "source": [
    "# Check Nan rows\n",
    "cnty_est_pop_1.isna().sum()"
   ]
  },
  {
   "cell_type": "code",
   "execution_count": 12,
   "metadata": {},
   "outputs": [],
   "source": [
    "# Since the sum is zero, there are no Nan or Null values"
   ]
  },
  {
   "cell_type": "code",
   "execution_count": 13,
   "metadata": {},
   "outputs": [
    {
     "data": {
      "text/plain": [
       "STNAME             0.0\n",
       "CTYNAME            0.0\n",
       "COUNTY             0.0\n",
       "POPESTIMATE2019    0.0\n",
       "dtype: float64"
      ]
     },
     "execution_count": 13,
     "metadata": {},
     "output_type": "execute_result"
    }
   ],
   "source": [
    "# Identify any duplicates\n",
    "cnty_est_pop_1[cnty_est_pop_1.duplicated()].sum()"
   ]
  },
  {
   "cell_type": "code",
   "execution_count": 14,
   "metadata": {},
   "outputs": [],
   "source": [
    "# Since the sum is zero, no duplicates are found"
   ]
  },
  {
   "cell_type": "code",
   "execution_count": 15,
   "metadata": {},
   "outputs": [
    {
     "data": {
      "text/html": [
       "<div>\n",
       "<style scoped>\n",
       "    .dataframe tbody tr th:only-of-type {\n",
       "        vertical-align: middle;\n",
       "    }\n",
       "\n",
       "    .dataframe tbody tr th {\n",
       "        vertical-align: top;\n",
       "    }\n",
       "\n",
       "    .dataframe thead th {\n",
       "        text-align: right;\n",
       "    }\n",
       "</style>\n",
       "<table border=\"1\" class=\"dataframe\">\n",
       "  <thead>\n",
       "    <tr style=\"text-align: right;\">\n",
       "      <th></th>\n",
       "      <th>STNAME</th>\n",
       "      <th>CTYNAME</th>\n",
       "      <th>COUNTY</th>\n",
       "      <th>POPESTIMATE2019</th>\n",
       "    </tr>\n",
       "  </thead>\n",
       "  <tbody>\n",
       "    <tr>\n",
       "      <th>1</th>\n",
       "      <td>Alabama</td>\n",
       "      <td>Autauga County</td>\n",
       "      <td>1</td>\n",
       "      <td>55869</td>\n",
       "    </tr>\n",
       "    <tr>\n",
       "      <th>2</th>\n",
       "      <td>Alabama</td>\n",
       "      <td>Baldwin County</td>\n",
       "      <td>3</td>\n",
       "      <td>223234</td>\n",
       "    </tr>\n",
       "    <tr>\n",
       "      <th>3</th>\n",
       "      <td>Alabama</td>\n",
       "      <td>Barbour County</td>\n",
       "      <td>5</td>\n",
       "      <td>24686</td>\n",
       "    </tr>\n",
       "    <tr>\n",
       "      <th>4</th>\n",
       "      <td>Alabama</td>\n",
       "      <td>Bibb County</td>\n",
       "      <td>7</td>\n",
       "      <td>22394</td>\n",
       "    </tr>\n",
       "    <tr>\n",
       "      <th>5</th>\n",
       "      <td>Alabama</td>\n",
       "      <td>Blount County</td>\n",
       "      <td>9</td>\n",
       "      <td>57826</td>\n",
       "    </tr>\n",
       "    <tr>\n",
       "      <th>6</th>\n",
       "      <td>Alabama</td>\n",
       "      <td>Bullock County</td>\n",
       "      <td>11</td>\n",
       "      <td>10101</td>\n",
       "    </tr>\n",
       "    <tr>\n",
       "      <th>7</th>\n",
       "      <td>Alabama</td>\n",
       "      <td>Butler County</td>\n",
       "      <td>13</td>\n",
       "      <td>19448</td>\n",
       "    </tr>\n",
       "    <tr>\n",
       "      <th>8</th>\n",
       "      <td>Alabama</td>\n",
       "      <td>Calhoun County</td>\n",
       "      <td>15</td>\n",
       "      <td>113605</td>\n",
       "    </tr>\n",
       "    <tr>\n",
       "      <th>9</th>\n",
       "      <td>Alabama</td>\n",
       "      <td>Chambers County</td>\n",
       "      <td>17</td>\n",
       "      <td>33254</td>\n",
       "    </tr>\n",
       "    <tr>\n",
       "      <th>10</th>\n",
       "      <td>Alabama</td>\n",
       "      <td>Cherokee County</td>\n",
       "      <td>19</td>\n",
       "      <td>26196</td>\n",
       "    </tr>\n",
       "  </tbody>\n",
       "</table>\n",
       "</div>"
      ],
      "text/plain": [
       "     STNAME          CTYNAME  COUNTY  POPESTIMATE2019\n",
       "1   Alabama   Autauga County       1            55869\n",
       "2   Alabama   Baldwin County       3           223234\n",
       "3   Alabama   Barbour County       5            24686\n",
       "4   Alabama      Bibb County       7            22394\n",
       "5   Alabama    Blount County       9            57826\n",
       "6   Alabama   Bullock County      11            10101\n",
       "7   Alabama    Butler County      13            19448\n",
       "8   Alabama   Calhoun County      15           113605\n",
       "9   Alabama  Chambers County      17            33254\n",
       "10  Alabama  Cherokee County      19            26196"
      ]
     },
     "execution_count": 15,
     "metadata": {},
     "output_type": "execute_result"
    }
   ],
   "source": [
    "# View data again\n",
    "cnty_est_pop_1.head(10)"
   ]
  },
  {
   "cell_type": "code",
   "execution_count": 16,
   "metadata": {},
   "outputs": [],
   "source": [
    "# Split county name\n",
    "# Remove word 'County'\n",
    "# Store it as CNTY\n",
    "cnty_est_pop_1['CNTY']=cnty_est_pop_1['CTYNAME'].str.split().str[0]"
   ]
  },
  {
   "cell_type": "code",
   "execution_count": 17,
   "metadata": {},
   "outputs": [],
   "source": [
    "# Remove COUNTY, CNTYNAM columns which are not required\n",
    "# Copy to new dataframe\n",
    "cnty_est_pop_2 = cnty_est_pop_1.drop(columns=['COUNTY','CTYNAME'])"
   ]
  },
  {
   "cell_type": "code",
   "execution_count": 18,
   "metadata": {},
   "outputs": [],
   "source": [
    "# Rename Headers\n",
    "cnty_est_pop_2.rename(columns={'STNAME':'state', 'POPESTIMATE2019':'estimate_2019','CNTY':'county'}, inplace=True)"
   ]
  },
  {
   "cell_type": "code",
   "execution_count": 19,
   "metadata": {},
   "outputs": [
    {
     "data": {
      "text/plain": [
       "51"
      ]
     },
     "execution_count": 19,
     "metadata": {},
     "output_type": "execute_result"
    }
   ],
   "source": [
    "# Check invalid state or county names\n",
    "cnty_est_pop_2['state'].nunique()"
   ]
  },
  {
   "cell_type": "code",
   "execution_count": 20,
   "metadata": {},
   "outputs": [],
   "source": [
    "# Total number of states and DC makes the count 51"
   ]
  },
  {
   "cell_type": "code",
   "execution_count": 21,
   "metadata": {},
   "outputs": [
    {
     "name": "stdout",
     "output_type": "stream",
     "text": [
      "Requirement already satisfied: fuzzywuzzy in c:\\users\\supernova\\anaconda3\\lib\\site-packages (0.18.0)\n",
      "Requirement already satisfied: python-Levenshtein in c:\\users\\supernova\\anaconda3\\lib\\site-packages (0.12.0)\n",
      "Requirement already satisfied: setuptools in c:\\users\\supernova\\anaconda3\\lib\\site-packages (from python-Levenshtein) (41.4.0)\n"
     ]
    }
   ],
   "source": [
    "# Install libraries for fuzzy matching\n",
    "!pip install fuzzywuzzy\n",
    "!pip install python-Levenshtein"
   ]
  },
  {
   "cell_type": "code",
   "execution_count": 22,
   "metadata": {},
   "outputs": [],
   "source": [
    "# Import fuzz and process\n",
    "from fuzzywuzzy import fuzz \n",
    "from fuzzywuzzy import process"
   ]
  },
  {
   "cell_type": "code",
   "execution_count": 26,
   "metadata": {},
   "outputs": [
    {
     "data": {
      "text/plain": [
       "100"
      ]
     },
     "execution_count": 26,
     "metadata": {},
     "output_type": "execute_result"
    }
   ],
   "source": [
    "# Run fuzzu ratio on county names\n",
    "fuzz.ratio(cnty_est_pop_2[\"county\"].items, cnty_est_pop_2[\"county\"].items)"
   ]
  },
  {
   "cell_type": "code",
   "execution_count": 28,
   "metadata": {},
   "outputs": [],
   "source": [
    "# Fuzzy ratio came back 100, which means no errors in county names"
   ]
  },
  {
   "cell_type": "code",
   "execution_count": 32,
   "metadata": {},
   "outputs": [
    {
     "data": {
      "text/html": [
       "<div>\n",
       "<style scoped>\n",
       "    .dataframe tbody tr th:only-of-type {\n",
       "        vertical-align: middle;\n",
       "    }\n",
       "\n",
       "    .dataframe tbody tr th {\n",
       "        vertical-align: top;\n",
       "    }\n",
       "\n",
       "    .dataframe thead th {\n",
       "        text-align: right;\n",
       "    }\n",
       "</style>\n",
       "<table border=\"1\" class=\"dataframe\">\n",
       "  <thead>\n",
       "    <tr style=\"text-align: right;\">\n",
       "      <th></th>\n",
       "      <th>state</th>\n",
       "      <th>estimate_2019</th>\n",
       "      <th>county</th>\n",
       "    </tr>\n",
       "  </thead>\n",
       "  <tbody>\n",
       "    <tr>\n",
       "      <th>3183</th>\n",
       "      <td>Wyoming</td>\n",
       "      <td>2356</td>\n",
       "      <td>Niobrara</td>\n",
       "    </tr>\n",
       "    <tr>\n",
       "      <th>3184</th>\n",
       "      <td>Wyoming</td>\n",
       "      <td>29194</td>\n",
       "      <td>Park</td>\n",
       "    </tr>\n",
       "    <tr>\n",
       "      <th>3185</th>\n",
       "      <td>Wyoming</td>\n",
       "      <td>8393</td>\n",
       "      <td>Platte</td>\n",
       "    </tr>\n",
       "    <tr>\n",
       "      <th>3186</th>\n",
       "      <td>Wyoming</td>\n",
       "      <td>30485</td>\n",
       "      <td>Sheridan</td>\n",
       "    </tr>\n",
       "    <tr>\n",
       "      <th>3187</th>\n",
       "      <td>Wyoming</td>\n",
       "      <td>9831</td>\n",
       "      <td>Sublette</td>\n",
       "    </tr>\n",
       "    <tr>\n",
       "      <th>3188</th>\n",
       "      <td>Wyoming</td>\n",
       "      <td>42343</td>\n",
       "      <td>Sweetwater</td>\n",
       "    </tr>\n",
       "    <tr>\n",
       "      <th>3189</th>\n",
       "      <td>Wyoming</td>\n",
       "      <td>23464</td>\n",
       "      <td>Teton</td>\n",
       "    </tr>\n",
       "    <tr>\n",
       "      <th>3190</th>\n",
       "      <td>Wyoming</td>\n",
       "      <td>20226</td>\n",
       "      <td>Uinta</td>\n",
       "    </tr>\n",
       "    <tr>\n",
       "      <th>3191</th>\n",
       "      <td>Wyoming</td>\n",
       "      <td>7805</td>\n",
       "      <td>Washakie</td>\n",
       "    </tr>\n",
       "    <tr>\n",
       "      <th>3192</th>\n",
       "      <td>Wyoming</td>\n",
       "      <td>6927</td>\n",
       "      <td>Weston</td>\n",
       "    </tr>\n",
       "  </tbody>\n",
       "</table>\n",
       "</div>"
      ],
      "text/plain": [
       "        state  estimate_2019      county\n",
       "3183  Wyoming           2356    Niobrara\n",
       "3184  Wyoming          29194        Park\n",
       "3185  Wyoming           8393      Platte\n",
       "3186  Wyoming          30485    Sheridan\n",
       "3187  Wyoming           9831    Sublette\n",
       "3188  Wyoming          42343  Sweetwater\n",
       "3189  Wyoming          23464       Teton\n",
       "3190  Wyoming          20226       Uinta\n",
       "3191  Wyoming           7805    Washakie\n",
       "3192  Wyoming           6927      Weston"
      ]
     },
     "execution_count": 32,
     "metadata": {},
     "output_type": "execute_result"
    }
   ],
   "source": [
    "# Final dataframe has 3192 records\n",
    "cnty_est_pop_2.tail(10)"
   ]
  }
 ],
 "metadata": {
  "kernelspec": {
   "display_name": "Python 3",
   "language": "python",
   "name": "python3"
  },
  "language_info": {
   "codemirror_mode": {
    "name": "ipython",
    "version": 3
   },
   "file_extension": ".py",
   "mimetype": "text/x-python",
   "name": "python",
   "nbconvert_exporter": "python",
   "pygments_lexer": "ipython3",
   "version": "3.7.4"
  }
 },
 "nbformat": 4,
 "nbformat_minor": 2
}
